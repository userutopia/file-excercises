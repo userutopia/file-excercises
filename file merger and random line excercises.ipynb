{
 "cells": [
  {
   "cell_type": "code",
   "execution_count": 11,
   "id": "81758a75",
   "metadata": {},
   "outputs": [],
   "source": [
    "# A program that merges each line from first file with the corresponding line in second file.\n",
    "def merger():\n",
    "    x=input('enter first file name or directory - ')\n",
    "    y=input('enter second  file name or directory - ')\n",
    "    f1=open(x)\n",
    "    f2=open(y)\n",
    "    for line1, line2 in zip(f1, f2):\n",
    "        # line1 from abc.txt, line2 from test.txtg\n",
    "        print(line1+line2)\n",
    "        "
   ]
  },
  {
   "cell_type": "code",
   "execution_count": 12,
   "id": "7eb79f8f",
   "metadata": {},
   "outputs": [
    {
     "name": "stdout",
     "output_type": "stream",
     "text": [
      "enter first directory - trial2.txt\n",
      "enter second directory - flula.txt\n",
      "1\n",
      "A\n",
      "\n",
      "2\n",
      "B\n",
      "\n",
      "3\n",
      "C\n",
      "\n",
      "4\n",
      "D\n",
      "\n",
      "5\n",
      "E\n",
      "\n",
      "6\n",
      "F\n",
      "\n",
      "7\n",
      "G\n",
      "\n",
      "8\n",
      "H\n",
      "\n",
      "9\n",
      "I\n"
     ]
    }
   ],
   "source": [
    "merger()\n"
   ]
  },
  {
   "cell_type": "code",
   "execution_count": 14,
   "id": "95e58c8d",
   "metadata": {},
   "outputs": [],
   "source": [
    "import random\n",
    "def ranline():\n",
    "    file=input('Enter your file name or directory - ')\n",
    "    lines = open(file).read().splitlines()\n",
    "    return random.choice(lines)\n",
    "\n"
   ]
  },
  {
   "cell_type": "code",
   "execution_count": 17,
   "id": "f8e264c4",
   "metadata": {},
   "outputs": [
    {
     "name": "stdout",
     "output_type": "stream",
     "text": [
      "Enter your file name or directory - data.txt\n"
     ]
    },
    {
     "data": {
      "text/plain": [
       "'I hope it works'"
      ]
     },
     "execution_count": 17,
     "metadata": {},
     "output_type": "execute_result"
    }
   ],
   "source": [
    "ranline()"
   ]
  },
  {
   "cell_type": "code",
   "execution_count": null,
   "id": "7547edc7",
   "metadata": {},
   "outputs": [],
   "source": []
  },
  {
   "cell_type": "code",
   "execution_count": null,
   "id": "4bbf97f4",
   "metadata": {},
   "outputs": [],
   "source": []
  }
 ],
 "metadata": {
  "kernelspec": {
   "display_name": "Python 3 (ipykernel)",
   "language": "python",
   "name": "python3"
  },
  "language_info": {
   "codemirror_mode": {
    "name": "ipython",
    "version": 3
   },
   "file_extension": ".py",
   "mimetype": "text/x-python",
   "name": "python",
   "nbconvert_exporter": "python",
   "pygments_lexer": "ipython3",
   "version": "3.9.7"
  }
 },
 "nbformat": 4,
 "nbformat_minor": 5
}
